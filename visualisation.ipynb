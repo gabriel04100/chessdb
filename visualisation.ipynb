{
 "cells": [
  {
   "cell_type": "code",
   "execution_count": 21,
   "metadata": {},
   "outputs": [],
   "source": [
    "import psycopg2\n",
    "from dotenv import load_dotenv\n",
    "import os\n",
    "import pandas as pd\n",
    "import matplotlib.pyplot as plt\n",
    "import seaborn as sns\n",
    "import psycopg2\n",
    "from dotenv import load_dotenv\n",
    "import os\n",
    "from  src.database import connect\n",
    "from src.pgn_parser import parse_moves\n",
    "\n"
   ]
  },
  {
   "cell_type": "markdown",
   "metadata": {},
   "source": [
    "## Mes parties d'echecs\n",
    "\n",
    "source chesscom pseudo gabrielpizzo"
   ]
  },
  {
   "cell_type": "code",
   "execution_count": 22,
   "metadata": {},
   "outputs": [
    {
     "name": "stderr",
     "output_type": "stream",
     "text": [
      "/tmp/ipykernel_32906/2867011540.py:15: UserWarning: pandas only supports SQLAlchemy connectable (engine/connection) or database string URI or sqlite3 DBAPI2 connection. Other DBAPI2 objects are not tested. Please consider using SQLAlchemy.\n",
      "  df = pd.read_sql_query(query, conn)\n"
     ]
    },
    {
     "data": {
      "text/html": [
       "<div>\n",
       "<style scoped>\n",
       "    .dataframe tbody tr th:only-of-type {\n",
       "        vertical-align: middle;\n",
       "    }\n",
       "\n",
       "    .dataframe tbody tr th {\n",
       "        vertical-align: top;\n",
       "    }\n",
       "\n",
       "    .dataframe thead th {\n",
       "        text-align: right;\n",
       "    }\n",
       "</style>\n",
       "<table border=\"1\" class=\"dataframe\">\n",
       "  <thead>\n",
       "    <tr style=\"text-align: right;\">\n",
       "      <th></th>\n",
       "      <th>date</th>\n",
       "      <th>date</th>\n",
       "      <th>white_player</th>\n",
       "      <th>black_player</th>\n",
       "      <th>result</th>\n",
       "      <th>black_elo</th>\n",
       "      <th>white_elo</th>\n",
       "      <th>time_control</th>\n",
       "      <th>termination</th>\n",
       "      <th>moves</th>\n",
       "    </tr>\n",
       "  </thead>\n",
       "  <tbody>\n",
       "    <tr>\n",
       "      <th>0</th>\n",
       "      <td>2024-02-13</td>\n",
       "      <td>2024-02-13</td>\n",
       "      <td>gabrielpizzo</td>\n",
       "      <td>BryMan222</td>\n",
       "      <td>1-0</td>\n",
       "      <td>1028</td>\n",
       "      <td>1068</td>\n",
       "      <td>300</td>\n",
       "      <td>gabrielpizzo a gagné au temps</td>\n",
       "      <td>e2e4 b7b6 g1f3 c8b7 b1c3 e7e6 d2d4 f8b4 f1d3 g...</td>\n",
       "    </tr>\n",
       "    <tr>\n",
       "      <th>1</th>\n",
       "      <td>2024-02-13</td>\n",
       "      <td>2024-02-13</td>\n",
       "      <td>jsum3</td>\n",
       "      <td>gabrielpizzo</td>\n",
       "      <td>0-1</td>\n",
       "      <td>1075</td>\n",
       "      <td>1009</td>\n",
       "      <td>300</td>\n",
       "      <td>gabrielpizzo a gagné au temps</td>\n",
       "      <td>e2e4 e7e5 g1f3 b8c6 f1c4 f8c5 c2c3 g8f6 d2d3 e...</td>\n",
       "    </tr>\n",
       "    <tr>\n",
       "      <th>2</th>\n",
       "      <td>2024-02-13</td>\n",
       "      <td>2024-02-13</td>\n",
       "      <td>gabrielpizzo</td>\n",
       "      <td>ahepburn94</td>\n",
       "      <td>0-1</td>\n",
       "      <td>1098</td>\n",
       "      <td>1067</td>\n",
       "      <td>300</td>\n",
       "      <td>ahepburn94 a gagné par échec et mat</td>\n",
       "      <td>e2e4 g7g6 g1f3 f8g7 d2d4 d7d6 c1e3 g8f6 b1c3 e...</td>\n",
       "    </tr>\n",
       "    <tr>\n",
       "      <th>3</th>\n",
       "      <td>2024-02-13</td>\n",
       "      <td>2024-02-13</td>\n",
       "      <td>krascko</td>\n",
       "      <td>gabrielpizzo</td>\n",
       "      <td>0-1</td>\n",
       "      <td>1074</td>\n",
       "      <td>1024</td>\n",
       "      <td>300</td>\n",
       "      <td>gabrielpizzo a gagné au temps</td>\n",
       "      <td>e2e4 e7e5 g1f3 b8c6 f1c4 f8c5 c2c3 g8f6 d2d3 e...</td>\n",
       "    </tr>\n",
       "    <tr>\n",
       "      <th>4</th>\n",
       "      <td>2024-02-13</td>\n",
       "      <td>2024-02-13</td>\n",
       "      <td>gabrielpizzo</td>\n",
       "      <td>GrosJoLav</td>\n",
       "      <td>0-1</td>\n",
       "      <td>1035</td>\n",
       "      <td>1065</td>\n",
       "      <td>300</td>\n",
       "      <td>GrosJoLav a gagné par échec et mat</td>\n",
       "      <td>e2e4 d7d5 e4d5 d8d5 b1c3 d5a5 d2d4 g8f6 g1f3 b...</td>\n",
       "    </tr>\n",
       "  </tbody>\n",
       "</table>\n",
       "</div>"
      ],
      "text/plain": [
       "         date        date  white_player  black_player result  black_elo  \\\n",
       "0  2024-02-13  2024-02-13  gabrielpizzo     BryMan222    1-0       1028   \n",
       "1  2024-02-13  2024-02-13         jsum3  gabrielpizzo    0-1       1075   \n",
       "2  2024-02-13  2024-02-13  gabrielpizzo    ahepburn94    0-1       1098   \n",
       "3  2024-02-13  2024-02-13       krascko  gabrielpizzo    0-1       1074   \n",
       "4  2024-02-13  2024-02-13  gabrielpizzo     GrosJoLav    0-1       1035   \n",
       "\n",
       "   white_elo time_control                          termination  \\\n",
       "0       1068          300        gabrielpizzo a gagné au temps   \n",
       "1       1009          300        gabrielpizzo a gagné au temps   \n",
       "2       1067          300  ahepburn94 a gagné par échec et mat   \n",
       "3       1024          300        gabrielpizzo a gagné au temps   \n",
       "4       1065          300   GrosJoLav a gagné par échec et mat   \n",
       "\n",
       "                                               moves  \n",
       "0  e2e4 b7b6 g1f3 c8b7 b1c3 e7e6 d2d4 f8b4 f1d3 g...  \n",
       "1  e2e4 e7e5 g1f3 b8c6 f1c4 f8c5 c2c3 g8f6 d2d3 e...  \n",
       "2  e2e4 g7g6 g1f3 f8g7 d2d4 d7d6 c1e3 g8f6 b1c3 e...  \n",
       "3  e2e4 e7e5 g1f3 b8c6 f1c4 f8c5 c2c3 g8f6 d2d3 e...  \n",
       "4  e2e4 d7d5 e4d5 d8d5 b1c3 d5a5 d2d4 g8f6 g1f3 b...  "
      ]
     },
     "execution_count": 22,
     "metadata": {},
     "output_type": "execute_result"
    }
   ],
   "source": [
    "conn = connect()\n",
    "query = \"\"\"\n",
    "SELECT cg.date,\n",
    "        cg.date,\n",
    "        cg.white_player,\n",
    "        cg.black_player,\n",
    "        cg.result,\n",
    "        cg.black_elo,\n",
    "        cg.white_elo,\n",
    "        cg.time_control,\n",
    "        cg.termination,\n",
    "        cg.moves\n",
    "FROM chess_games cg\n",
    "\"\"\"\n",
    "df = pd.read_sql_query(query, conn)\n",
    "conn.close()\n",
    "\n",
    "df.head()"
   ]
  },
  {
   "cell_type": "code",
   "execution_count": 23,
   "metadata": {},
   "outputs": [],
   "source": [
    "df[['num_moves', 'first_two_moves']] = df['moves'].apply(parse_moves).apply(pd.Series)"
   ]
  },
  {
   "cell_type": "code",
   "execution_count": 24,
   "metadata": {},
   "outputs": [
    {
     "data": {
      "image/png": "[encoded data removed]",
      "text/plain": [
       "<Figure size 1000x1000 with 1 Axes>"
      ]
     },
     "metadata": {},
     "output_type": "display_data"
    }
   ],
   "source": [
    "plt.figure(figsize=(10,10))\n",
    "sns.countplot(data=df,x=\"time_control\")\n",
    "plt.title(\"time control des parties\")\n",
    "plt.grid()"
   ]
  },
  {
   "cell_type": "code",
   "execution_count": 25,
   "metadata": {},
   "outputs": [
    {
     "data": {
      "image/png": "[encoded data removed]",
      "text/plain": [
       "<Figure size 1000x1000 with 1 Axes>"
      ]
     },
     "metadata": {},
     "output_type": "display_data"
    }
   ],
   "source": [
    "plt.figure(figsize=(10,10))\n",
    "sns.countplot(data=df,x=\"first_two_moves\")\n",
    "plt.grid()\n",
    "plt.title(\"Deux premiers coups de la partie\")\n",
    "plt.show()"
   ]
  },
  {
   "cell_type": "code",
   "execution_count": 26,
   "metadata": {},
   "outputs": [
    {
     "data": {
      "text/html": [
       "<div>\n",
       "<style scoped>\n",
       "    .dataframe tbody tr th:only-of-type {\n",
       "        vertical-align: middle;\n",
       "    }\n",
       "\n",
       "    .dataframe tbody tr th {\n",
       "        vertical-align: top;\n",
       "    }\n",
       "\n",
       "    .dataframe thead th {\n",
       "        text-align: right;\n",
       "    }\n",
       "</style>\n",
       "<table border=\"1\" class=\"dataframe\">\n",
       "  <thead>\n",
       "    <tr style=\"text-align: right;\">\n",
       "      <th></th>\n",
       "      <th>num_moves</th>\n",
       "      <th>first_two_moves</th>\n",
       "    </tr>\n",
       "  </thead>\n",
       "  <tbody>\n",
       "    <tr>\n",
       "      <th>0</th>\n",
       "      <td>107</td>\n",
       "      <td>e2e4 b7b6</td>\n",
       "    </tr>\n",
       "    <tr>\n",
       "      <th>1</th>\n",
       "      <td>110</td>\n",
       "      <td>e2e4 e7e5</td>\n",
       "    </tr>\n",
       "    <tr>\n",
       "      <th>2</th>\n",
       "      <td>38</td>\n",
       "      <td>e2e4 g7g6</td>\n",
       "    </tr>\n",
       "    <tr>\n",
       "      <th>3</th>\n",
       "      <td>134</td>\n",
       "      <td>e2e4 e7e5</td>\n",
       "    </tr>\n",
       "    <tr>\n",
       "      <th>4</th>\n",
       "      <td>30</td>\n",
       "      <td>e2e4 d7d5</td>\n",
       "    </tr>\n",
       "    <tr>\n",
       "      <th>5</th>\n",
       "      <td>4</td>\n",
       "      <td>e2e3 e7e5</td>\n",
       "    </tr>\n",
       "    <tr>\n",
       "      <th>6</th>\n",
       "      <td>126</td>\n",
       "      <td>e2e4 e7e5</td>\n",
       "    </tr>\n",
       "    <tr>\n",
       "      <th>7</th>\n",
       "      <td>78</td>\n",
       "      <td>e2e4 c7c6</td>\n",
       "    </tr>\n",
       "    <tr>\n",
       "      <th>8</th>\n",
       "      <td>45</td>\n",
       "      <td>d2d4 d7d5</td>\n",
       "    </tr>\n",
       "    <tr>\n",
       "      <th>9</th>\n",
       "      <td>71</td>\n",
       "      <td>e2e4 e7e5</td>\n",
       "    </tr>\n",
       "  </tbody>\n",
       "</table>\n",
       "</div>"
      ],
      "text/plain": [
       "   num_moves first_two_moves\n",
       "0        107       e2e4 b7b6\n",
       "1        110       e2e4 e7e5\n",
       "2         38       e2e4 g7g6\n",
       "3        134       e2e4 e7e5\n",
       "4         30       e2e4 d7d5\n",
       "5          4       e2e3 e7e5\n",
       "6        126       e2e4 e7e5\n",
       "7         78       e2e4 c7c6\n",
       "8         45       d2d4 d7d5\n",
       "9         71       e2e4 e7e5"
      ]
     },
     "execution_count": 26,
     "metadata": {},
     "output_type": "execute_result"
    }
   ],
   "source": [
    "df[[\"num_moves\",\"first_two_moves\"]].head(10)"
   ]
  }
 ],
 "metadata": {
  "kernelspec": {
   "display_name": ".venv",
   "language": "python",
   "name": "python3"
  },
  "language_info": {
   "codemirror_mode": {
    "name": "ipython",
    "version": 3
   },
   "file_extension": ".py",
   "mimetype": "text/x-python",
   "name": "python",
   "nbconvert_exporter": "python",
   "pygments_lexer": "ipython3",
   "version": "3.11.9"
  }
 },
 "nbformat": 4,
 "nbformat_minor": 2
}
